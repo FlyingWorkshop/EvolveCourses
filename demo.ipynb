{
 "cells": [
  {
   "cell_type": "code",
   "execution_count": 25,
   "outputs": [],
   "source": [
    "# %load_ext autoreload\n",
    "# %autoreload 2\n",
    "\n",
    "import itertools\n",
    "import random\n",
    "\n",
    "from explorecourses import CourseConnection\n",
    "\n",
    "import geneticalgorithm as ga\n",
    "\n",
    "connect = CourseConnection()"
   ],
   "metadata": {
    "collapsed": false
   }
  },
  {
   "cell_type": "code",
   "execution_count": 26,
   "outputs": [],
   "source": [
    "# courses = connect.get_courses_by_department(\"MATH\", year=\"2021-2022\")"
   ],
   "metadata": {
    "collapsed": false
   }
  },
  {
   "cell_type": "code",
   "execution_count": 27,
   "outputs": [],
   "source": [
    "# courses = connect.get_courses_by_query(\"all courses\", year=\"2020-2021\")"
   ],
   "metadata": {
    "collapsed": false
   }
  },
  {
   "cell_type": "code",
   "execution_count": 28,
   "outputs": [
    {
     "data": {
      "text/plain": "{'year': '2022-2023',\n 'subject': 'ECON',\n 'code': '202',\n 'title': 'Microeconomics I',\n 'description': '(Non-Economics graduate students register for 202N.) Open to advanced undergraduates with consent of instructors. Theory of the consumer and the implications of constrained maximization; uses of indirect utility and expenditure functions; theory of the producer, profit maximization, and cost minimization; monotone comparative statics; behavior under uncertainty; partial equilibrium analysis and introduction to models of general equilibrium. Limited enrollment. Prerequisite: thorough understanding of the elements of multivariate calculus and linear algebra.',\n 'gers': ('',),\n 'repeatable': False,\n 'grading_basis': 'Letter or Credit/No Credit',\n 'units_min': 2,\n 'units_max': 5,\n 'objectives': (),\n 'final_exam': True,\n 'sections': (<explorecourses.classes.Section at 0x10af83510>,\n  <explorecourses.classes.Section at 0x10af80890>),\n 'tags': (<explorecourses.classes.Tag at 0x10af80c10>,\n  <explorecourses.classes.Tag at 0x10b11bb10>,\n  <explorecourses.classes.Tag at 0x10b11a390>,\n  <explorecourses.classes.Tag at 0x10b118410>,\n  <explorecourses.classes.Tag at 0x10b118850>,\n  <explorecourses.classes.Tag at 0x10b11b0d0>,\n  <explorecourses.classes.Tag at 0x10b119b10>),\n 'attributes': (<explorecourses.classes.Attribute at 0x10b11bdd0>,),\n 'course_id': 113400,\n 'active': True,\n 'offer_num': '1',\n 'academic_group': 'H&S',\n 'academic_org': 'ECONOMICS',\n 'academic_career': 'GR',\n 'max_units_repeat': 5,\n 'max_times_repeat': 1}"
     },
     "execution_count": 28,
     "metadata": {},
     "output_type": "execute_result"
    }
   ],
   "source": [
    "econ202 = ga.utils.get_course(\"econ202\")\n",
    "econ202.__dict__"
   ],
   "metadata": {
    "collapsed": false
   }
  },
  {
   "cell_type": "code",
   "execution_count": 29,
   "outputs": [
    {
     "data": {
      "text/plain": "{'class_id': 14040,\n 'term': '2022-2023 Autumn',\n 'units': '',\n 'section_num': '02',\n 'component': 'DIS',\n 'max_class_size': 40,\n 'curr_class_size': 19,\n 'curr_waitlist_size': 0,\n 'max_waitlist_size': 0,\n 'notes': '',\n 'schedules': (<explorecourses.classes.Schedule at 0x10b123cd0>,),\n 'attributes': (<explorecourses.classes.Attribute at 0x10af83990>,)}"
     },
     "execution_count": 29,
     "metadata": {},
     "output_type": "execute_result"
    }
   ],
   "source": [
    "econ202.sections[0].__dict__"
   ],
   "metadata": {
    "collapsed": false
   }
  },
  {
   "cell_type": "code",
   "execution_count": 30,
   "outputs": [
    {
     "data": {
      "text/plain": "<explorecourses.classes.Section at 0x10af80890>"
     },
     "execution_count": 30,
     "metadata": {},
     "output_type": "execute_result"
    }
   ],
   "source": [
    "econ202.sections[1]"
   ],
   "metadata": {
    "collapsed": false
   }
  },
  {
   "cell_type": "code",
   "execution_count": 31,
   "outputs": [
    {
     "data": {
      "text/plain": "{'start_date': 'Sep 26, 2022',\n 'end_date': 'Dec 9, 2022',\n 'start_time': '9:30:00 AM',\n 'end_time': '11:20:00 AM',\n 'location': 'Lathrop 299',\n 'days': ('Friday',),\n 'instructors': (<explorecourses.classes.Instructor at 0x10af830d0>,)}"
     },
     "execution_count": 31,
     "metadata": {},
     "output_type": "execute_result"
    }
   ],
   "source": [
    "econ202.sections[0].schedules[0].__dict__"
   ],
   "metadata": {
    "collapsed": false
   }
  },
  {
   "cell_type": "code",
   "execution_count": 32,
   "outputs": [
    {
     "data": {
      "text/plain": "(<explorecourses.classes.Schedule at 0x10b123cd0>,)"
     },
     "execution_count": 32,
     "metadata": {},
     "output_type": "execute_result"
    }
   ],
   "source": [
    "econ202.sections[0].schedules"
   ],
   "metadata": {
    "collapsed": false
   }
  },
  {
   "cell_type": "code",
   "execution_count": 33,
   "outputs": [
    {
     "name": "stdout",
     "output_type": "stream",
     "text": [
      "Friday, 9:30:00 AM - 11:20:00 AM at Lathrop 299\n"
     ]
    }
   ],
   "source": [
    "print(econ202.sections[0].schedules[0])"
   ],
   "metadata": {
    "collapsed": false
   }
  },
  {
   "cell_type": "code",
   "execution_count": 34,
   "outputs": [
    {
     "name": "stdout",
     "output_type": "stream",
     "text": [
      "DIS 02 (id: 14040)\n",
      "Friday, 9:30:00 AM - 11:20:00 AM at Lathrop 299\n",
      "LEC 01 (id: 13128)\n",
      "Tuesday, Thursday, 9:30:00 AM - 11:20:00 AM at Mitchell Earth Sciences B67\n"
     ]
    }
   ],
   "source": [
    "for i in range(len(econ202.sections)):\n",
    "    print(econ202.sections[i])\n",
    "    for j in range(len(econ202.sections[i].schedules)):\n",
    "        print(econ202.sections[i].schedules[j])\n"
   ],
   "metadata": {
    "collapsed": false
   }
  },
  {
   "cell_type": "code",
   "execution_count": 35,
   "outputs": [
    {
     "data": {
      "text/plain": "{'start_date': 'Sep 26, 2022',\n 'end_date': 'Dec 9, 2022',\n 'start_time': '9:30:00 AM',\n 'end_time': '11:20:00 AM',\n 'location': 'Lathrop 299',\n 'days': ('Friday',),\n 'instructors': (<explorecourses.classes.Instructor at 0x10af830d0>,)}"
     },
     "execution_count": 35,
     "metadata": {},
     "output_type": "execute_result"
    }
   ],
   "source": [
    "econ202.sections[0].schedules[0].__dict__"
   ],
   "metadata": {
    "collapsed": false
   }
  },
  {
   "cell_type": "code",
   "execution_count": 36,
   "outputs": [],
   "source": [
    "from explorecourses.filters import *\n",
    "import itertools\n",
    "import random\n",
    "\n",
    "\n",
    "ways_reqs = [WAY_AII, WAY_SI, WAY_SMA] * 2 + [WAY_AQR, WAY_CE, WAY_ER, WAY_FR]\n"
   ],
   "metadata": {
    "collapsed": false
   }
  },
  {
   "cell_type": "code",
   "execution_count": 37,
   "outputs": [
    {
     "name": "stdout",
     "output_type": "stream",
     "text": [
      "('filter-ger-WAYAII', 'filter-ger-WAYSI', 'filter-ger-WAYSMA', 'filter-ger-WAYAII', 'filter-ger-WAYSI', 'filter-ger-WAYSMA', 'filter-ger-WAYAQR', 'filter-ger-WAYCE', 'filter-ger-WAYER', 'filter-ger-WAYFR')\n",
      "('filter-ger-WAYAII', 'filter-ger-WAYSI', 'filter-ger-WAYSMA', 'filter-ger-WAYAII', 'filter-ger-WAYSI', 'filter-ger-WAYSMA', 'filter-ger-WAYAQR', 'filter-ger-WAYCE', 'filter-ger-WAYFR', 'filter-ger-WAYER')\n",
      "('filter-ger-WAYAII', 'filter-ger-WAYSI', 'filter-ger-WAYSMA', 'filter-ger-WAYAII', 'filter-ger-WAYSI', 'filter-ger-WAYSMA', 'filter-ger-WAYAQR', 'filter-ger-WAYER', 'filter-ger-WAYCE', 'filter-ger-WAYFR')\n",
      "('filter-ger-WAYAII', 'filter-ger-WAYSI', 'filter-ger-WAYSMA', 'filter-ger-WAYAII', 'filter-ger-WAYSI', 'filter-ger-WAYSMA', 'filter-ger-WAYAQR', 'filter-ger-WAYER', 'filter-ger-WAYFR', 'filter-ger-WAYCE')\n"
     ]
    }
   ],
   "source": [
    "i = 0\n",
    "for plan in itertools.permutations(ways_reqs):\n",
    "    print(plan)\n",
    "    i += 1\n",
    "    if i > 3:\n",
    "        break"
   ],
   "metadata": {
    "collapsed": false
   }
  },
  {
   "cell_type": "code",
   "execution_count": 41,
   "outputs": [
    {
     "name": "stdout",
     "output_type": "stream",
     "text": [
      "filter-ger-WAYAII\n",
      "OSPFLOR62 Un)fashionable Entanglements: Development, Workers' Movements and Regulation in Global Garment Value\n",
      "filter-ger-WAYSI\n",
      "COMPLIT55N Black Panther, Hamilton, Díaz, and Other Wondrous Lives (CSRE 55N)\n",
      "filter-ger-WAYSMA\n",
      "HISTORY196C Resisting Empire: Anti-colonial Nationalism, Popular Politics & Decolonization in Modern South Asia (FEMGEN 96C, FEMGEN 196C, HISTORY 96C)\n"
     ]
    }
   ],
   "source": [
    "for filter_ in plan[:3]:\n",
    "    courses = connect.get_courses_by_query(\"all course\", 'filter-ger-WAYEDP', AUTUMN)\n",
    "    course = random.choice(courses)\n",
    "    print(filter_)\n",
    "    print(course)"
   ],
   "metadata": {
    "collapsed": false
   }
  },
  {
   "cell_type": "code",
   "execution_count": 39,
   "outputs": [],
   "source": [
    "ga.functions.generate()"
   ],
   "metadata": {
    "collapsed": false
   }
  }
 ],
 "metadata": {
  "kernelspec": {
   "display_name": "Python 3",
   "language": "python",
   "name": "python3"
  },
  "language_info": {
   "codemirror_mode": {
    "name": "ipython",
    "version": 2
   },
   "file_extension": ".py",
   "mimetype": "text/x-python",
   "name": "python",
   "nbconvert_exporter": "python",
   "pygments_lexer": "ipython2",
   "version": "2.7.6"
  }
 },
 "nbformat": 4,
 "nbformat_minor": 0
}
